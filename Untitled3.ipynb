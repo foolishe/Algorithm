# -*- coding: utf-8 -*-
"""
Created on Sun Nov 25 04:28:41 2018

@author: dontworry
"""

def fibiter(n):
    if n==0:
        return 0
    elif n==1:
        return 1
    else:
        fib1=0
        fib2=1
        for i in range(n-1):
            temp=fib1
            fib1=fib2
            fib2=temp+fib2
        return fib2
print(fibiter(6))    